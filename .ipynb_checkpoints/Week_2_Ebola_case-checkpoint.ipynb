{
 "cells": [
  {
   "cell_type": "code",
   "execution_count": 1,
   "metadata": {
    "collapsed": false
   },
   "outputs": [
    {
     "data": {
      "text/plain": [
       "54×9 Array{Any,2}:\n",
       " \"25 Nov 2015\"   28.637   11.314  …   10.675    4.808   14.122    3.955\n",
       " \"18 Nov 2015\"   28.634   11.314      10.672    4.808   14.122    3.955\n",
       " \"11 Nov 2015\"   28.635   11.314      10.672    4.808   14.122    3.955\n",
       " \"4 Nov 2015\"    28.607   11.314      10.672    4.808   14.089    3.955\n",
       " \"25 Oct 2015\"   28.539   11.298      10.672    4.808   14.061    3.955\n",
       " \"18 Oct 2015\"   28.476   11.298  …   10.672    4.808   14.001    3.955\n",
       " \"11 Oct 2015\"   28.454   11.297      10.672    4.808   13.982    3.955\n",
       " \"27 Sep 2015\"   28.388   11.296      10.672    4.808   13.911    3.955\n",
       " \"20 Sep 2015\"   28.295   11.295      10.672    4.808   13.823    3.955\n",
       " \"13 Sep 2015\"   28.22    11.291      10.672    4.808   13.756    3.953\n",
       " \"6 Sep 2015\"    28.147   11.291  …   10.672    4.808   13.683    3.953\n",
       " \"30 Aug 2015\"   28.073   11.29       10.672    4.808   13.609    3.953\n",
       " \"16 Aug 2015\"   27.952   11.284      10.672    4.808   13.494    3.952\n",
       " ⋮                                ⋱    ⋮                               \n",
       " \"9 Aug 2014\"     1.835    1.011     599      323      730      315    \n",
       " \"30 Jul 2014\"    1.437  825         391      227      574      252    \n",
       " \"23 Jul 2014\"    1.201  672         249      129      525      224    \n",
       " \"14 Jul 2014\"  982      613      …  174      106      397      197    \n",
       " \"2 Jul 2014\"   779      481         115       75      252      101    \n",
       " \"17 Jun 2014\"  528      337          33       24       97       49    \n",
       " \"27 May 2014\"  309      202          12       11       16        5    \n",
       " \"12 May 2014\"  260      182          12       11         \"–\"      \"–\" \n",
       " \"1 May 2014\"   239      160      …   13       11         \"-\"      \"-\" \n",
       " \"14 Apr 2014\"  176      110           8        2         \"–\"      \"–\" \n",
       " \"31 Mar 2014\"  130       82           8        2         \"–\"      \"–\" \n",
       " \"22 Mar 2014\"   49       29            \"–\"      \"–\"      \"–\"      \"–\" "
      ]
     },
     "execution_count": 1,
     "metadata": {},
     "output_type": "execute_result"
    }
   ],
   "source": [
    "wikiEVDraw = readdlm(\"wikipediaEVD.csv\", ',')"
   ]
  },
  {
   "cell_type": "code",
   "execution_count": 2,
   "metadata": {
    "collapsed": false
   },
   "outputs": [
    {
     "data": {
      "text/plain": [
       "2015-11-25T00:00:00"
      ]
     },
     "execution_count": 2,
     "metadata": {},
     "output_type": "execute_result"
    }
   ],
   "source": [
    "DateTime(wikiEVDraw[1,1], \"d u y\")"
   ]
  },
  {
   "cell_type": "markdown",
   "metadata": {},
   "source": [
    "## For loops"
   ]
  },
  {
   "cell_type": "code",
   "execution_count": 3,
   "metadata": {
    "collapsed": false
   },
   "outputs": [
    {
     "name": "stdout",
     "output_type": "stream",
     "text": [
      "num is now 3\n",
      "num is now 4\n",
      "num is now 5\n",
      "num is now 6\n",
      "num is now 7\n",
      "The value of x is now 23\n",
      "The value of x is now my name is not a name\n",
      "The value of x is now λ\n"
     ]
    }
   ],
   "source": [
    "for num = 3:7\n",
    "    println(\"num is now $num\")\n",
    "end\n",
    "\n",
    "values = [23, \"my name is not a name\", 'λ']\n",
    "for x in values\n",
    "    println(\"The value of x is now $x\")\n",
    "end"
   ]
  },
  {
   "cell_type": "code",
   "execution_count": 4,
   "metadata": {
    "collapsed": false
   },
   "outputs": [
    {
     "data": {
      "text/plain": [
       "54-element Array{Any,1}:\n",
       " \"25 Nov 2015\"\n",
       " \"18 Nov 2015\"\n",
       " \"11 Nov 2015\"\n",
       " \"4 Nov 2015\" \n",
       " \"25 Oct 2015\"\n",
       " \"18 Oct 2015\"\n",
       " \"11 Oct 2015\"\n",
       " \"27 Sep 2015\"\n",
       " \"20 Sep 2015\"\n",
       " \"13 Sep 2015\"\n",
       " \"6 Sep 2015\" \n",
       " \"30 Aug 2015\"\n",
       " \"16 Aug 2015\"\n",
       " ⋮            \n",
       " \"9 Aug 2014\" \n",
       " \"30 Jul 2014\"\n",
       " \"23 Jul 2014\"\n",
       " \"14 Jul 2014\"\n",
       " \"2 Jul 2014\" \n",
       " \"17 Jun 2014\"\n",
       " \"27 May 2014\"\n",
       " \"12 May 2014\"\n",
       " \"1 May 2014\" \n",
       " \"14 Apr 2014\"\n",
       " \"31 Mar 2014\"\n",
       " \"22 Mar 2014\""
      ]
     },
     "execution_count": 4,
     "metadata": {},
     "output_type": "execute_result"
    }
   ],
   "source": [
    "col1 = wikiEVDraw[:,1]"
   ]
  },
  {
   "cell_type": "code",
   "execution_count": 5,
   "metadata": {
    "collapsed": false
   },
   "outputs": [
    {
     "data": {
      "text/plain": [
       "54"
      ]
     },
     "execution_count": 5,
     "metadata": {},
     "output_type": "execute_result"
    }
   ],
   "source": [
    "length(col1)"
   ]
  },
  {
   "cell_type": "code",
   "execution_count": 7,
   "metadata": {
    "collapsed": false
   },
   "outputs": [],
   "source": [
    "for i = 1:length(col1) #54\n",
    "    col1[i] = DateTime(col1[i], \"d u y\")\n",
    "end"
   ]
  },
  {
   "cell_type": "code",
   "execution_count": 8,
   "metadata": {
    "collapsed": false
   },
   "outputs": [
    {
     "name": "stdout",
     "output_type": "stream",
     "text": [
      "2015-11-25T00:00:00\n"
     ]
    }
   ],
   "source": [
    "println(col1[1])"
   ]
  },
  {
   "cell_type": "code",
   "execution_count": 9,
   "metadata": {
    "collapsed": false
   },
   "outputs": [
    {
     "data": {
      "text/plain": [
       "735927"
      ]
     },
     "execution_count": 9,
     "metadata": {},
     "output_type": "execute_result"
    }
   ],
   "source": [
    "Dates.datetime2rata(col1[1]) #days from 1 st Jan of year 0001"
   ]
  },
  {
   "cell_type": "code",
   "execution_count": 10,
   "metadata": {
    "collapsed": true
   },
   "outputs": [],
   "source": [
    "dayssincemar22(x) = Dates.datetime2rata(x) - Dates.datetime2rata(col1[54])\n",
    "epidays = Array(Int64,54)\n",
    "for i = 1:length(col1)\n",
    "    epidays[i] = dayssincemar22(col1[i])\n",
    "end"
   ]
  },
  {
   "cell_type": "code",
   "execution_count": 11,
   "metadata": {
    "collapsed": true
   },
   "outputs": [],
   "source": [
    "wikiEVDraw[:,1] = epidays\n",
    "writedlm(\"wikipediaEVDdatesconverted.csv\", wikiEVDraw, ',')"
   ]
  },
  {
   "cell_type": "code",
   "execution_count": null,
   "metadata": {
    "collapsed": true
   },
   "outputs": [],
   "source": []
  }
 ],
 "metadata": {
  "kernelspec": {
   "display_name": "Julia 0.5.0",
   "language": "julia",
   "name": "julia-0.5"
  },
  "language_info": {
   "file_extension": ".jl",
   "mimetype": "application/julia",
   "name": "julia",
   "version": "0.5.0"
  }
 },
 "nbformat": 4,
 "nbformat_minor": 0
}
