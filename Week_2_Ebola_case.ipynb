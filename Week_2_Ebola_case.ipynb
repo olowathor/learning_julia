{
 "cells": [
  {
   "cell_type": "code",
   "execution_count": 1,
   "metadata": {
    "collapsed": false
   },
   "outputs": [
    {
     "data": {
      "text/plain": [
       "54×9 Array{Any,2}:\n",
       " \"25 Nov 2015\"   28.637   11.314  …   10.675    4.808   14.122    3.955\n",
       " \"18 Nov 2015\"   28.634   11.314      10.672    4.808   14.122    3.955\n",
       " \"11 Nov 2015\"   28.635   11.314      10.672    4.808   14.122    3.955\n",
       " \"4 Nov 2015\"    28.607   11.314      10.672    4.808   14.089    3.955\n",
       " \"25 Oct 2015\"   28.539   11.298      10.672    4.808   14.061    3.955\n",
       " \"18 Oct 2015\"   28.476   11.298  …   10.672    4.808   14.001    3.955\n",
       " \"11 Oct 2015\"   28.454   11.297      10.672    4.808   13.982    3.955\n",
       " \"27 Sep 2015\"   28.388   11.296      10.672    4.808   13.911    3.955\n",
       " \"20 Sep 2015\"   28.295   11.295      10.672    4.808   13.823    3.955\n",
       " \"13 Sep 2015\"   28.22    11.291      10.672    4.808   13.756    3.953\n",
       " \"6 Sep 2015\"    28.147   11.291  …   10.672    4.808   13.683    3.953\n",
       " \"30 Aug 2015\"   28.073   11.29       10.672    4.808   13.609    3.953\n",
       " \"16 Aug 2015\"   27.952   11.284      10.672    4.808   13.494    3.952\n",
       " ⋮                                ⋱    ⋮                               \n",
       " \"9 Aug 2014\"     1.835    1.011     599      323      730      315    \n",
       " \"30 Jul 2014\"    1.437  825         391      227      574      252    \n",
       " \"23 Jul 2014\"    1.201  672         249      129      525      224    \n",
       " \"14 Jul 2014\"  982      613      …  174      106      397      197    \n",
       " \"2 Jul 2014\"   779      481         115       75      252      101    \n",
       " \"17 Jun 2014\"  528      337          33       24       97       49    \n",
       " \"27 May 2014\"  309      202          12       11       16        5    \n",
       " \"12 May 2014\"  260      182          12       11         \"–\"      \"–\" \n",
       " \"1 May 2014\"   239      160      …   13       11         \"-\"      \"-\" \n",
       " \"14 Apr 2014\"  176      110           8        2         \"–\"      \"–\" \n",
       " \"31 Mar 2014\"  130       82           8        2         \"–\"      \"–\" \n",
       " \"22 Mar 2014\"   49       29            \"–\"      \"–\"      \"–\"      \"–\" "
      ]
     },
     "execution_count": 1,
     "metadata": {},
     "output_type": "execute_result"
    }
   ],
   "source": [
    "wikiEVDraw = readdlm(\"wikipediaEVD.csv\", ',')"
   ]
  },
  {
   "cell_type": "code",
   "execution_count": 2,
   "metadata": {
    "collapsed": false
   },
   "outputs": [
    {
     "data": {
      "text/plain": [
       "2015-11-25T00:00:00"
      ]
     },
     "execution_count": 2,
     "metadata": {},
     "output_type": "execute_result"
    }
   ],
   "source": [
    "DateTime(wikiEVDraw[1,1], \"d u y\")"
   ]
  },
  {
   "cell_type": "markdown",
   "metadata": {},
   "source": [
    "## For loops"
   ]
  },
  {
   "cell_type": "code",
   "execution_count": 3,
   "metadata": {
    "collapsed": false
   },
   "outputs": [
    {
     "name": "stdout",
     "output_type": "stream",
     "text": [
      "num is now 3\n",
      "num is now 4\n",
      "num is now 5\n",
      "num is now 6\n",
      "num is now 7\n",
      "The value of x is now 23\n",
      "The value of x is now my name is not a name\n",
      "The value of x is now λ\n"
     ]
    }
   ],
   "source": [
    "for num = 3:7\n",
    "    println(\"num is now $num\")\n",
    "end\n",
    "\n",
    "values = [23, \"my name is not a name\", 'λ']\n",
    "for x in values\n",
    "    println(\"The value of x is now $x\")\n",
    "end"
   ]
  },
  {
   "cell_type": "code",
   "execution_count": 4,
   "metadata": {
    "collapsed": false
   },
   "outputs": [
    {
     "data": {
      "text/plain": [
       "54-element Array{Any,1}:\n",
       " \"25 Nov 2015\"\n",
       " \"18 Nov 2015\"\n",
       " \"11 Nov 2015\"\n",
       " \"4 Nov 2015\" \n",
       " \"25 Oct 2015\"\n",
       " \"18 Oct 2015\"\n",
       " \"11 Oct 2015\"\n",
       " \"27 Sep 2015\"\n",
       " \"20 Sep 2015\"\n",
       " \"13 Sep 2015\"\n",
       " \"6 Sep 2015\" \n",
       " \"30 Aug 2015\"\n",
       " \"16 Aug 2015\"\n",
       " ⋮            \n",
       " \"9 Aug 2014\" \n",
       " \"30 Jul 2014\"\n",
       " \"23 Jul 2014\"\n",
       " \"14 Jul 2014\"\n",
       " \"2 Jul 2014\" \n",
       " \"17 Jun 2014\"\n",
       " \"27 May 2014\"\n",
       " \"12 May 2014\"\n",
       " \"1 May 2014\" \n",
       " \"14 Apr 2014\"\n",
       " \"31 Mar 2014\"\n",
       " \"22 Mar 2014\""
      ]
     },
     "execution_count": 4,
     "metadata": {},
     "output_type": "execute_result"
    }
   ],
   "source": [
    "col1 = wikiEVDraw[:,1]"
   ]
  },
  {
   "cell_type": "code",
   "execution_count": 5,
   "metadata": {
    "collapsed": false
   },
   "outputs": [
    {
     "data": {
      "text/plain": [
       "54"
      ]
     },
     "execution_count": 5,
     "metadata": {},
     "output_type": "execute_result"
    }
   ],
   "source": [
    "length(col1)"
   ]
  },
  {
   "cell_type": "code",
   "execution_count": 7,
   "metadata": {
    "collapsed": false
   },
   "outputs": [],
   "source": [
    "for i = 1:length(col1) #54\n",
    "    col1[i] = DateTime(col1[i], \"d u y\")\n",
    "end"
   ]
  },
  {
   "cell_type": "code",
   "execution_count": 8,
   "metadata": {
    "collapsed": false
   },
   "outputs": [
    {
     "name": "stdout",
     "output_type": "stream",
     "text": [
      "2015-11-25T00:00:00\n"
     ]
    }
   ],
   "source": [
    "println(col1[1])"
   ]
  },
  {
   "cell_type": "code",
   "execution_count": 9,
   "metadata": {
    "collapsed": false
   },
   "outputs": [
    {
     "data": {
      "text/plain": [
       "735927"
      ]
     },
     "execution_count": 9,
     "metadata": {},
     "output_type": "execute_result"
    }
   ],
   "source": [
    "Dates.datetime2rata(col1[1]) #days from 1 st Jan of year 0001"
   ]
  },
  {
   "cell_type": "code",
   "execution_count": 10,
   "metadata": {
    "collapsed": true
   },
   "outputs": [],
   "source": [
    "dayssincemar22(x) = Dates.datetime2rata(x) - Dates.datetime2rata(col1[54])\n",
    "epidays = Array(Int64,54)\n",
    "for i = 1:length(col1)\n",
    "    epidays[i] = dayssincemar22(col1[i])\n",
    "end"
   ]
  },
  {
   "cell_type": "code",
   "execution_count": 11,
   "metadata": {
    "collapsed": true
   },
   "outputs": [],
   "source": [
    "wikiEVDraw[:,1] = epidays\n",
    "writedlm(\"wikipediaEVDdatesconverted.csv\", wikiEVDraw, ',')"
   ]
  },
  {
   "cell_type": "code",
   "execution_count": 1,
   "metadata": {
    "collapsed": false
   },
   "outputs": [
    {
     "name": "stdout",
     "output_type": "stream",
     "text": [
      "1\n",
      "\n",
      "3\n",
      "\n",
      "5\n",
      "\n"
     ]
    }
   ],
   "source": [
    "for k = 1:2:5\n",
    "    println(k, \"\\n\")\n",
    "end"
   ]
  },
  {
   "cell_type": "markdown",
   "metadata": {},
   "source": [
    "## Plotting"
   ]
  },
  {
   "cell_type": "code",
   "execution_count": 6,
   "metadata": {
    "collapsed": false
   },
   "outputs": [
    {
     "data": {
      "text/plain": [
       "Plots.PyPlotBackend()"
      ]
     },
     "execution_count": 6,
     "metadata": {},
     "output_type": "execute_result"
    }
   ],
   "source": [
    "using Plots\n",
    "pyplot()"
   ]
  },
  {
   "cell_type": "code",
   "execution_count": 7,
   "metadata": {
    "collapsed": false
   },
   "outputs": [
    {
     "data": {
      "text/plain": [
       "54-element Array{Any,1}:\n",
       "  28.637\n",
       "  28.634\n",
       "  28.635\n",
       "  28.607\n",
       "  28.539\n",
       "  28.476\n",
       "  28.454\n",
       "  28.388\n",
       "  28.295\n",
       "  28.22 \n",
       "  28.147\n",
       "  28.073\n",
       "  27.952\n",
       "   ⋮    \n",
       "   1.835\n",
       "   1.437\n",
       "   1.201\n",
       " 982    \n",
       " 779    \n",
       " 528    \n",
       " 309    \n",
       " 260    \n",
       " 239    \n",
       " 176    \n",
       " 130    \n",
       "  49    "
      ]
     },
     "execution_count": 7,
     "metadata": {},
     "output_type": "execute_result"
    }
   ],
   "source": [
    "EVDdata = readdlm(\"wikipediaEVDdatesconverted.csv\",',')\n",
    "epidays = EVDdata[:,1]\n",
    "allcases = EVDdata[:,2]"
   ]
  },
  {
   "cell_type": "code",
   "execution_count": 8,
   "metadata": {
    "collapsed": false
   },
   "outputs": [
    {
     "data": {
      "text/html": [
       "<img src=\"data:image/png;base64,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\" />"
      ]
     },
     "execution_count": 8,
     "metadata": {},
     "output_type": "execute_result"
    },
    {
     "name": "stderr",
     "output_type": "stream",
     "text": [
      "sys:1: MatplotlibDeprecationWarning: The set_axis_bgcolor function was deprecated in version 2.0. Use set_facecolor instead.\n"
     ]
    }
   ],
   "source": [
    "plot(epidays, allcases)"
   ]
  },
  {
   "cell_type": "code",
   "execution_count": 9,
   "metadata": {
    "collapsed": false
   },
   "outputs": [
    {
     "data": {
      "text/html": [
       "<img src=\"data:image/png;base64,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\" />"
      ]
     },
     "execution_count": 9,
     "metadata": {},
     "output_type": "execute_result"
    }
   ],
   "source": [
    "plot(epidays, allcases, linetype = :scatter, marker = :diamond)"
   ]
  },
  {
   "cell_type": "code",
   "execution_count": null,
   "metadata": {
    "collapsed": true
   },
   "outputs": [],
   "source": []
  }
 ],
 "metadata": {
  "kernelspec": {
   "display_name": "Julia 0.5.0",
   "language": "julia",
   "name": "julia-0.5"
  },
  "language_info": {
   "file_extension": ".jl",
   "mimetype": "application/julia",
   "name": "julia",
   "version": "0.5.0"
  }
 },
 "nbformat": 4,
 "nbformat_minor": 0
}
